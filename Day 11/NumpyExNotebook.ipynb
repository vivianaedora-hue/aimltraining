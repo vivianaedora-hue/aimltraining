{
 "cells": [
  {
   "cell_type": "markdown",
   "id": "fdbfde90-a7a9-4dc4-9309-b4bf42ae9f26",
   "metadata": {},
   "source": [
    "## Numpy introduction and usage\n",
    "## we will use numpy in this jupyetr notebook\n",
    "## One dimensional array"
   ]
  },
  {
   "cell_type": "code",
   "execution_count": 1,
   "id": "154ae1c4-fda5-4ca5-9d0f-7da5c3549d26",
   "metadata": {},
   "outputs": [],
   "source": [
    "import numpy as np"
   ]
  },
  {
   "cell_type": "code",
   "execution_count": 3,
   "id": "c784c643-513f-4651-977b-5e423b473e72",
   "metadata": {},
   "outputs": [],
   "source": [
    "array1=np.array([10,20,30,40,50])"
   ]
  },
  {
   "cell_type": "code",
   "execution_count": 4,
   "id": "176c21f1-28e3-46ef-93e4-21b4963b3d2b",
   "metadata": {},
   "outputs": [
    {
     "name": "stdout",
     "output_type": "stream",
     "text": [
      "[10 20 30 40 50]\n"
     ]
    }
   ],
   "source": [
    "print(array1)"
   ]
  },
  {
   "cell_type": "markdown",
   "id": "44918195-42fe-40bb-8960-a9b428e1b664",
   "metadata": {},
   "source": [
    "## Two dimensional array"
   ]
  },
  {
   "cell_type": "code",
   "execution_count": 5,
   "id": "5b59caa3-085c-4012-8126-b400553e7159",
   "metadata": {},
   "outputs": [],
   "source": [
    "array_two=np.array([[10,20,30],[40,50,60]])"
   ]
  },
  {
   "cell_type": "code",
   "execution_count": 6,
   "id": "d608cbdb-46ac-4480-ad3a-ba3ede28d390",
   "metadata": {},
   "outputs": [
    {
     "name": "stdout",
     "output_type": "stream",
     "text": [
      "[[10 20 30]\n",
      " [40 50 60]]\n"
     ]
    }
   ],
   "source": [
    "print(array_two)"
   ]
  },
  {
   "cell_type": "markdown",
   "id": "0445ad95-c639-4c7b-a239-15d5db4ec341",
   "metadata": {},
   "source": [
    "# Three dimensional array (3-D array)"
   ]
  },
  {
   "cell_type": "code",
   "execution_count": 7,
   "id": "ff2c0dcc-c6ef-491e-99ba-ad5f6ba14716",
   "metadata": {},
   "outputs": [],
   "source": [
    "array_three=np.array([[[10,20,30],[40,50,70]],[[10,20,30],[40,50,70]]])"
   ]
  },
  {
   "cell_type": "code",
   "execution_count": 8,
   "id": "16fdc89f-0db4-4d7a-87b2-dd27b6daeae3",
   "metadata": {},
   "outputs": [
    {
     "name": "stdout",
     "output_type": "stream",
     "text": [
      "[[[10 20 30]\n",
      "  [40 50 70]]\n",
      "\n",
      " [[10 20 30]\n",
      "  [40 50 70]]]\n"
     ]
    }
   ],
   "source": [
    "print(array_three)"
   ]
  },
  {
   "cell_type": "markdown",
   "id": "9ab631f8-0ed6-41da-b548-556136a7da09",
   "metadata": {},
   "source": [
    "## Find out dimension of numPy array"
   ]
  },
  {
   "cell_type": "code",
   "execution_count": 10,
   "id": "f247f1ed-d677-483c-981d-6a872c769603",
   "metadata": {},
   "outputs": [
    {
     "name": "stdout",
     "output_type": "stream",
     "text": [
      "First Array Dimension: \t 1\n"
     ]
    }
   ],
   "source": [
    "print('First Array Dimension: \\t',array1.ndim)"
   ]
  },
  {
   "cell_type": "code",
   "execution_count": 11,
   "id": "99653d66-6be6-4305-b435-ceb01f88ae0e",
   "metadata": {},
   "outputs": [
    {
     "name": "stdout",
     "output_type": "stream",
     "text": [
      "Second Array Dimension: \t 2\n"
     ]
    }
   ],
   "source": [
    "print('Second Array Dimension: \\t', array_two.ndim)"
   ]
  },
  {
   "cell_type": "code",
   "execution_count": 12,
   "id": "16145611-2a31-4ec3-8a61-c9499c4468c8",
   "metadata": {},
   "outputs": [
    {
     "name": "stdout",
     "output_type": "stream",
     "text": [
      "Third Array Dimension: \t 3\n"
     ]
    }
   ],
   "source": [
    "print('Third Array Dimension: \\t', array_three.ndim)"
   ]
  },
  {
   "cell_type": "markdown",
   "id": "436b60d9-63e0-4309-b763-c4700315fe31",
   "metadata": {},
   "source": [
    "# Write array of 5 students marks using NumPy\n",
    "    ## Marks are: 80,70,75,99,89"
   ]
  },
  {
   "cell_type": "code",
   "execution_count": 17,
   "id": "be7b2fa0-cba8-4330-9701-8faf4e7659a2",
   "metadata": {},
   "outputs": [],
   "source": [
    "array1=np.array([80,70,75,99,89])"
   ]
  },
  {
   "cell_type": "code",
   "execution_count": 18,
   "id": "f986788c-740e-4fc0-8155-80c6e1b52120",
   "metadata": {},
   "outputs": [
    {
     "name": "stdout",
     "output_type": "stream",
     "text": [
      "Array of Marks:\n",
      "[80 70 75 99 89]\n"
     ]
    }
   ],
   "source": [
    "print('Array of Marks:')\n",
    "print(array1)"
   ]
  },
  {
   "cell_type": "markdown",
   "id": "af753c19-ecbe-411b-bf62-40207c8a3211",
   "metadata": {},
   "source": [
    "# Write an array:to take Marks of 5 students in 3 subjects using NumPy\n",
    "## Math, English, Chemistry\n",
    "## [[50,45,49],[40,42,45],[35,40,46],[39,40,45],[48,40,40]]"
   ]
  },
  {
   "cell_type": "code",
   "execution_count": 19,
   "id": "580cc3a6-6fa0-415d-87e1-09c409895aca",
   "metadata": {},
   "outputs": [
    {
     "name": "stdout",
     "output_type": "stream",
     "text": [
      "2 D Array example\n",
      "[[50 45 49]\n",
      " [40 42 45]\n",
      " [35 40 46]\n",
      " [39 40 45]\n",
      " [48 40 40]]\n"
     ]
    }
   ],
   "source": [
    "marks_subject=np.array([[50,45,49],[40,42,45],[35,40,46],[39,40,45],[48,40,40]])\n",
    "print('2 D Array example')\n",
    "print(marks_subject)"
   ]
  },
  {
   "cell_type": "markdown",
   "id": "cc9f14a6-6c3c-45b1-aab0-e2f4e76e6a76",
   "metadata": {},
   "source": [
    "# Write an array: to take Marks of 4 students in 3 subjects for two semester using NumPy\n",
    "    ## Students name are: 'Amit','Sha','Xi','Arif'\n",
    "    ## Math, English, Chemistry\n",
    "    ## Two semester : Sem1, Sem2\n",
    "    ## 4*3*2\n",
    "    ## [[[85,88],[78,82],[90,95]], [[76,70],[40,45],[90,90]], [[[80,86],[78,82],[90,95]], [85,88],[78,82],[70,90]]]"
   ]
  },
  {
   "cell_type": "code",
   "execution_count": 20,
   "id": "c375b039-f2bc-46c7-b4b8-c433371d772d",
   "metadata": {},
   "outputs": [],
   "source": [
    "marks_subject_sem=np.array([\n",
    "    [[85,88],[78,82],[90,95]] , # Amit (math[sem1,sem2])\n",
    "    [[76,70],[40,45],[90,90]] ,\n",
    "    [[80,86],[78,82],[90,95]] ,\n",
    "    [[85,88],[78,82],[70,90]]\n",
    "])"
   ]
  },
  {
   "cell_type": "code",
   "execution_count": 22,
   "id": "47a624d9-d823-43f7-82ce-f373f5983a8a",
   "metadata": {},
   "outputs": [
    {
     "name": "stdout",
     "output_type": "stream",
     "text": [
      "[[[85 88]\n",
      "  [78 82]\n",
      "  [90 95]]\n",
      "\n",
      " [[76 70]\n",
      "  [40 45]\n",
      "  [90 90]]\n",
      "\n",
      " [[80 86]\n",
      "  [78 82]\n",
      "  [90 95]]\n",
      "\n",
      " [[85 88]\n",
      "  [78 82]\n",
      "  [70 90]]]\n"
     ]
    }
   ],
   "source": [
    "print(marks_subject_sem)"
   ]
  },
  {
   "cell_type": "markdown",
   "id": "a19c13a2-31dd-4b6e-9ef5-18d6965863e4",
   "metadata": {},
   "source": [
    "## write an array: to take weather of 2 cities in 3 days for three times in a day (morning, noon, evening)\n",
    "    ## Cities name are: Kuala Lumpur, Delhi\n",
    "    ## Saturday, Sunday, Monday\n",
    "    ## Three Time Slot: Morning, Noon, Evening\n",
    "    ## 1st city, KL: [[25,30,28],[24,28,25],[30,32,30]]\n",
    "    ## 2nd city, Delhi: [[30,35,30],[32,34,30],[28,31,30]\n",
    "       ## [[[25,30,28],[24,28,25],[30,32,30]],[30,35,30],[24,28,25],[28,31,30]]]\n",
    "# Create one 3-D array for this using Numpy and print it"
   ]
  },
  {
   "cell_type": "code",
   "execution_count": 24,
   "id": "366b962e-4b60-4973-990c-ffba698b5a02",
   "metadata": {},
   "outputs": [],
   "source": [
    "weather_data=np.array([\n",
    "    # Kuala Lumpur (City 1)\n",
    "    [\n",
    "        [30, 33, 29],   # Saturday (Morning, Noon, Evening)\n",
    "        [31, 34, 28],   # Sunday\n",
    "        [29, 32, 27]    # Monday\n",
    "    ],\n",
    "    # Delhi (City 2)\n",
    "    [\n",
    "        [20, 27, 22],   # Saturday\n",
    "        [21, 29, 23],   # Sunday\n",
    "        [19, 26, 21]    # Monday\n",
    "    ]\n",
    "])"
   ]
  },
  {
   "cell_type": "code",
   "execution_count": 25,
   "id": "d11dfd21-177a-4731-a742-6d31c48596ea",
   "metadata": {},
   "outputs": [
    {
     "name": "stdout",
     "output_type": "stream",
     "text": [
      "Weather Data :\n",
      "[[[30 33 29]\n",
      "  [31 34 28]\n",
      "  [29 32 27]]\n",
      "\n",
      " [[20 27 22]\n",
      "  [21 29 23]\n",
      "  [19 26 21]]]\n"
     ]
    }
   ],
   "source": [
    "print(\"Weather Data :\")\n",
    "print(weather_data)"
   ]
  },
  {
   "cell_type": "code",
   "execution_count": 30,
   "id": "cb8b2f63-028d-4956-9bef-a5a028172a3b",
   "metadata": {},
   "outputs": [],
   "source": [
    "weather_array=np.array([[[25,30,28],[24,28,25],[30,32,30]],[[30,35,30],[24,28,25],[28,31,30]]])"
   ]
  },
  {
   "cell_type": "code",
   "execution_count": 31,
   "id": "c52d293d-fd5b-4bc4-a6e7-5f9af9e190b3",
   "metadata": {},
   "outputs": [
    {
     "name": "stdout",
     "output_type": "stream",
     "text": [
      "[[[25 30 28]\n",
      "  [24 28 25]\n",
      "  [30 32 30]]\n",
      "\n",
      " [[30 35 30]\n",
      "  [24 28 25]\n",
      "  [28 31 30]]]\n"
     ]
    }
   ],
   "source": [
    "print(weather_array)"
   ]
  },
  {
   "cell_type": "markdown",
   "id": "ace7a017-c9f7-4eca-8c92-93c1746c72a8",
   "metadata": {},
   "source": [
    "# Basic Info\n",
    "    ## shape: rows and column\n",
    "    ## size: number of elements\n",
    "    ## diemnsion: return dimension 1, 2, 3...\n",
    "    ## Data type: return stored data values type"
   ]
  },
  {
   "cell_type": "code",
   "execution_count": 35,
   "id": "fa82208e-560b-4d3e-ab46-3a3cd64f47b6",
   "metadata": {},
   "outputs": [],
   "source": [
    "array1=np.array([10,20,30,40,50])"
   ]
  },
  {
   "cell_type": "code",
   "execution_count": 36,
   "id": "226c8ff2-73dc-4347-b95b-251a3860757d",
   "metadata": {},
   "outputs": [
    {
     "name": "stdout",
     "output_type": "stream",
     "text": [
      "[10 20 30 40 50]\n"
     ]
    }
   ],
   "source": [
    "print(array1)"
   ]
  },
  {
   "cell_type": "code",
   "execution_count": 37,
   "id": "eb3936f7-b19a-4b08-a709-c50efd14ae48",
   "metadata": {},
   "outputs": [
    {
     "name": "stdout",
     "output_type": "stream",
     "text": [
      "Shape of array1:  (5,)\n"
     ]
    }
   ],
   "source": [
    "print(\"Shape of array1: \",array1.shape)"
   ]
  },
  {
   "cell_type": "code",
   "execution_count": 38,
   "id": "88c4e9f4-4b75-4c05-932b-919e1958652c",
   "metadata": {},
   "outputs": [
    {
     "name": "stdout",
     "output_type": "stream",
     "text": [
      "Size of array1:  5\n"
     ]
    }
   ],
   "source": [
    "print(\"Size of array1: \",array1.size)"
   ]
  },
  {
   "cell_type": "code",
   "execution_count": 39,
   "id": "fe292e5b-4ec2-4c8e-a74a-702174a5b631",
   "metadata": {},
   "outputs": [
    {
     "name": "stdout",
     "output_type": "stream",
     "text": [
      "Dimension:  1\n"
     ]
    }
   ],
   "source": [
    "print('Dimension: ',array1.ndim)"
   ]
  },
  {
   "cell_type": "code",
   "execution_count": 40,
   "id": "ec3559d1-fc37-4494-98f5-f419cb78fb59",
   "metadata": {},
   "outputs": [
    {
     "name": "stdout",
     "output_type": "stream",
     "text": [
      "Data type :  int64\n"
     ]
    }
   ],
   "source": [
    "print('Data type : ',array1.dtype)"
   ]
  },
  {
   "cell_type": "code",
   "execution_count": 46,
   "id": "331d6453-b14c-4a98-a70d-1b99b11721ee",
   "metadata": {},
   "outputs": [],
   "source": [
    "students=np.array(['Ali Munaf bin Kabir','Shi','xi','Meena','Ziva'])"
   ]
  },
  {
   "cell_type": "code",
   "execution_count": 47,
   "id": "896f4b2b-770d-4dfb-9b07-5e61d483b21b",
   "metadata": {},
   "outputs": [
    {
     "name": "stdout",
     "output_type": "stream",
     "text": [
      "['Ali Munaf bin Kabir' 'Shi' 'xi' 'Meena' 'Ziva']\n"
     ]
    }
   ],
   "source": [
    "print(students)"
   ]
  },
  {
   "cell_type": "code",
   "execution_count": 48,
   "id": "e2ed004a-acdf-4440-8e3f-4e7999441411",
   "metadata": {},
   "outputs": [
    {
     "name": "stdout",
     "output_type": "stream",
     "text": [
      "Shape of array :  (5,)\n"
     ]
    }
   ],
   "source": [
    "print(\"Shape of array : \",students.shape)"
   ]
  },
  {
   "cell_type": "code",
   "execution_count": 44,
   "id": "1bf62c26-a86c-4eef-898f-6b38b87889fd",
   "metadata": {},
   "outputs": [
    {
     "name": "stdout",
     "output_type": "stream",
     "text": [
      "Number of students :  5\n"
     ]
    }
   ],
   "source": [
    "print(\"Number of students : \",students.size)"
   ]
  },
  {
   "cell_type": "code",
   "execution_count": 45,
   "id": "61290029-f224-4b84-ad52-1f875f38e98b",
   "metadata": {},
   "outputs": [
    {
     "name": "stdout",
     "output_type": "stream",
     "text": [
      "Data type:  <U5\n"
     ]
    }
   ],
   "source": [
    "print('Data type: ',students.dtype)"
   ]
  },
  {
   "cell_type": "markdown",
   "id": "21155d61-6943-43fb-979a-02bc92d37455",
   "metadata": {},
   "source": [
    "# Mathematical Operation"
   ]
  },
  {
   "cell_type": "code",
   "execution_count": 49,
   "id": "9007f75e-3a57-4e22-966d-3df75e5e88e1",
   "metadata": {},
   "outputs": [
    {
     "name": "stdout",
     "output_type": "stream",
     "text": [
      "[10 20 30 40 50]\n"
     ]
    }
   ],
   "source": [
    "print(array1)"
   ]
  },
  {
   "cell_type": "code",
   "execution_count": 50,
   "id": "5af88214-7325-4af6-9773-430f58e0732c",
   "metadata": {},
   "outputs": [],
   "source": [
    "total=np.sum(array1)"
   ]
  },
  {
   "cell_type": "code",
   "execution_count": 51,
   "id": "32c85f15-6c51-4a0c-bba7-734ffe519a7b",
   "metadata": {},
   "outputs": [
    {
     "name": "stdout",
     "output_type": "stream",
     "text": [
      "150\n"
     ]
    }
   ],
   "source": [
    "print(total)"
   ]
  },
  {
   "cell_type": "code",
   "execution_count": 53,
   "id": "4fd6ce29-9f29-4456-9232-fdbc5d0c80da",
   "metadata": {},
   "outputs": [
    {
     "name": "stdout",
     "output_type": "stream",
     "text": [
      "Mean:  30.0\n"
     ]
    }
   ],
   "source": [
    "print('Mean: ',np.mean(array1))"
   ]
  },
  {
   "cell_type": "code",
   "execution_count": 56,
   "id": "afd934a4-4b15-44c9-8529-ee0525c32887",
   "metadata": {},
   "outputs": [
    {
     "name": "stdout",
     "output_type": "stream",
     "text": [
      "Min:  10\n"
     ]
    }
   ],
   "source": [
    "print('Min: ',np.min(array1))"
   ]
  },
  {
   "cell_type": "code",
   "execution_count": 57,
   "id": "13c060b4-96dd-4acb-90c3-44a4413454bf",
   "metadata": {},
   "outputs": [
    {
     "name": "stdout",
     "output_type": "stream",
     "text": [
      "Max:  50\n"
     ]
    }
   ],
   "source": [
    "print('Max: ',np.max(array1))"
   ]
  },
  {
   "cell_type": "code",
   "execution_count": 58,
   "id": "89d7cb25-f857-44a9-b92b-a9a2ab5743c0",
   "metadata": {},
   "outputs": [
    {
     "name": "stdout",
     "output_type": "stream",
     "text": [
      "Index of max:  4\n"
     ]
    }
   ],
   "source": [
    "print('Index of max: ',np.argmax(array1))"
   ]
  },
  {
   "cell_type": "code",
   "execution_count": 59,
   "id": "5e98d5d7-fddb-4a06-a950-694832cfe277",
   "metadata": {},
   "outputs": [],
   "source": [
    "our_arr=np.array([100,200,300,7000,400,500,300,1900,600])"
   ]
  },
  {
   "cell_type": "code",
   "execution_count": 60,
   "id": "7783b985-d4e0-4857-97c3-a3b2022518a9",
   "metadata": {},
   "outputs": [
    {
     "name": "stdout",
     "output_type": "stream",
     "text": [
      "[ 100  200  300 7000  400  500  300 1900  600]\n"
     ]
    }
   ],
   "source": [
    "print(our_arr)"
   ]
  },
  {
   "cell_type": "markdown",
   "id": "3d8caa04-ed54-40ef-88b5-f790cfdb9f64",
   "metadata": {},
   "source": [
    "# Searching and sorting example in 1-D Array"
   ]
  },
  {
   "cell_type": "code",
   "execution_count": 67,
   "id": "54af986e-27c0-4bbf-b4bc-21f02ac7a2d8",
   "metadata": {},
   "outputs": [
    {
     "name": "stdout",
     "output_type": "stream",
     "text": [
      "*** Sorted Array \n",
      "[ 100  200  300  300  400  500  600 1900 7000]\n"
     ]
    }
   ],
   "source": [
    "sorted_arr=np.sort(our_arr)\n",
    "print('*** Sorted Array ')\n",
    "print(sorted_arr)"
   ]
  },
  {
   "cell_type": "code",
   "execution_count": 62,
   "id": "043feb6a-6959-417a-a63f-7f3d85ecc676",
   "metadata": {},
   "outputs": [
    {
     "name": "stdout",
     "output_type": "stream",
     "text": [
      "Is there any item greater than 500?:  True\n"
     ]
    }
   ],
   "source": [
    "print('Is there any item greater than 500?: ',np.any(sorted_arr>500))"
   ]
  },
  {
   "cell_type": "code",
   "execution_count": 63,
   "id": "fd07910d-cc71-4a28-91f4-319c3feec91a",
   "metadata": {},
   "outputs": [
    {
     "name": "stdout",
     "output_type": "stream",
     "text": [
      "All greather than 500?:  False\n"
     ]
    }
   ],
   "source": [
    "print('All greather than 500?: ',np.all(sorted_arr>500))"
   ]
  },
  {
   "cell_type": "code",
   "execution_count": 64,
   "id": "fc6c5f20-a4ea-4136-acd7-4f68cd2fddf1",
   "metadata": {},
   "outputs": [
    {
     "name": "stdout",
     "output_type": "stream",
     "text": [
      "All greather than 99?:  True\n"
     ]
    }
   ],
   "source": [
    "print('All greather than 99?: ',np.all(sorted_arr>99))"
   ]
  },
  {
   "cell_type": "code",
   "execution_count": 65,
   "id": "fd8672bf-243d-4b37-b250-6eeb273e1541",
   "metadata": {},
   "outputs": [
    {
     "name": "stdout",
     "output_type": "stream",
     "text": [
      "Where values >500 (array([6, 7, 8]),)\n"
     ]
    }
   ],
   "source": [
    "print('Where values >500',np.where(sorted_arr>500))"
   ]
  },
  {
   "cell_type": "code",
   "execution_count": 66,
   "id": "640c5689-6f94-408c-ad8c-68c12b7fc74c",
   "metadata": {},
   "outputs": [
    {
     "name": "stdout",
     "output_type": "stream",
     "text": [
      "All number greater than 500\n",
      "[6 7 8]\n"
     ]
    }
   ],
   "source": [
    "print('All number greater than 500')\n",
    "for num in np.where(sorted_arr>500):\n",
    "    print(num)"
   ]
  },
  {
   "cell_type": "code",
   "execution_count": 71,
   "id": "1bd10206-915c-4bda-91a6-b267aa244547",
   "metadata": {},
   "outputs": [
    {
     "name": "stdout",
     "output_type": "stream",
     "text": [
      "[ 100  200  300 7000  400  500  300 1900  600]\n"
     ]
    }
   ],
   "source": [
    "print(our_arr)"
   ]
  },
  {
   "cell_type": "code",
   "execution_count": 72,
   "id": "d21cacaa-188a-4c10-86d7-222d3f2f67c4",
   "metadata": {},
   "outputs": [
    {
     "name": "stdout",
     "output_type": "stream",
     "text": [
      "100\n"
     ]
    }
   ],
   "source": [
    "print(np.min(our_arr))"
   ]
  },
  {
   "cell_type": "code",
   "execution_count": 75,
   "id": "679082d4-67dd-4bb8-8e69-dd7b1a18f13c",
   "metadata": {},
   "outputs": [
    {
     "name": "stdout",
     "output_type": "stream",
     "text": [
      "Index of Min 0\n"
     ]
    }
   ],
   "source": [
    "print('Index of Min',np.argmin(sorted_arr))"
   ]
  },
  {
   "cell_type": "code",
   "execution_count": 74,
   "id": "3f947ef1-3afa-4df3-b869-48563db202dc",
   "metadata": {},
   "outputs": [
    {
     "name": "stdout",
     "output_type": "stream",
     "text": [
      "Index of Max 8\n"
     ]
    }
   ],
   "source": [
    "print('Index of Max',np.argmax(sorted_arr))"
   ]
  },
  {
   "cell_type": "code",
   "execution_count": 76,
   "id": "e4dae298-3d9d-4003-8201-3c52807280ec",
   "metadata": {},
   "outputs": [
    {
     "name": "stdout",
     "output_type": "stream",
     "text": [
      "All number greater than 500\n",
      "False\n",
      "False\n",
      "False\n",
      "False\n",
      "False\n",
      "False\n",
      "True\n",
      "True\n",
      "True\n"
     ]
    }
   ],
   "source": [
    "print('All number greater than 500')\n",
    "for num in sorted_arr>500:\n",
    "    print(num)"
   ]
  },
  {
   "cell_type": "code",
   "execution_count": 78,
   "id": "d7041d74-5a4c-4067-a5a2-d97c76dafc58",
   "metadata": {},
   "outputs": [],
   "source": [
    "selected_values=sorted_arr[sorted_arr>500]"
   ]
  },
  {
   "cell_type": "code",
   "execution_count": 79,
   "id": "4bec9a0f-0132-4fa4-b3d0-76d91ec351d5",
   "metadata": {},
   "outputs": [
    {
     "name": "stdout",
     "output_type": "stream",
     "text": [
      "[ 600 1900 7000]\n"
     ]
    }
   ],
   "source": [
    "print(selected_values)"
   ]
  },
  {
   "cell_type": "code",
   "execution_count": 80,
   "id": "0cacabc1-5c6d-423a-b989-a360a0549c95",
   "metadata": {},
   "outputs": [
    {
     "name": "stdout",
     "output_type": "stream",
     "text": [
      "600\n",
      "1900\n",
      "7000\n"
     ]
    }
   ],
   "source": [
    "for num in selected_values:\n",
    "    print(num)"
   ]
  },
  {
   "cell_type": "code",
   "execution_count": 82,
   "id": "60c97ffc-5be1-47c9-8b3b-e10441756436",
   "metadata": {},
   "outputs": [
    {
     "name": "stdout",
     "output_type": "stream",
     "text": [
      "600\n",
      "1900\n",
      "7000\n"
     ]
    }
   ],
   "source": [
    "for num in sorted_arr[sorted_arr>500]: # option 2 --> to write\n",
    "    print(num)"
   ]
  },
  {
   "cell_type": "code",
   "execution_count": 83,
   "id": "f30e4405-3859-441a-a52b-cfc7e1a53f51",
   "metadata": {},
   "outputs": [
    {
     "name": "stdout",
     "output_type": "stream",
     "text": [
      "  [ 600 1900 7000]\n"
     ]
    }
   ],
   "source": [
    "print(' ',sorted_arr[sorted_arr>500])"
   ]
  },
  {
   "cell_type": "markdown",
   "id": "4aaee2fc-7ca1-4e00-bf60-2a1599b4fe80",
   "metadata": {},
   "source": [
    "# Slicing 1-D Array\n",
    "    1. To find out element from starting to end index\n",
    "    2. eg [start:end]"
   ]
  },
  {
   "cell_type": "code",
   "execution_count": 88,
   "id": "c24e3e64-2a8b-4975-9ee0-943b4ef97405",
   "metadata": {},
   "outputs": [
    {
     "name": "stdout",
     "output_type": "stream",
     "text": [
      "[ 100  200  300  300  400  500  600 1900 7000]\n"
     ]
    }
   ],
   "source": [
    "print(sorted_arr)"
   ]
  },
  {
   "cell_type": "code",
   "execution_count": 89,
   "id": "f3f1301f-29e4-46b6-b0f1-4e9a7b117747",
   "metadata": {},
   "outputs": [
    {
     "name": "stdout",
     "output_type": "stream",
     "text": [
      "[200 300]\n"
     ]
    }
   ],
   "source": [
    "slice_sorted_arr=sorted_arr[1:3]\n",
    "print(slice_our_arr)"
   ]
  },
  {
   "cell_type": "markdown",
   "id": "e8dd44bc-5a2b-4f9b-aa36-0b1424c65e54",
   "metadata": {},
   "source": [
    "# starting from an index and going till last"
   ]
  },
  {
   "cell_type": "code",
   "execution_count": 91,
   "id": "85552dc6-c64d-47d7-9473-921fe3d9981a",
   "metadata": {},
   "outputs": [
    {
     "name": "stdout",
     "output_type": "stream",
     "text": [
      "[ 300  400  500  600 1900 7000]\n"
     ]
    }
   ],
   "source": [
    "print(sorted_arr[3:])"
   ]
  },
  {
   "cell_type": "code",
   "execution_count": 94,
   "id": "c36d15c2-26e2-47ac-9b0c-9d45d1165375",
   "metadata": {},
   "outputs": [
    {
     "name": "stdout",
     "output_type": "stream",
     "text": [
      "[100 200 300 300]\n"
     ]
    }
   ],
   "source": [
    "print(sorted_arr[:4])"
   ]
  },
  {
   "cell_type": "code",
   "execution_count": 95,
   "id": "560e5a70-87f3-4fa1-840f-2cbd20c56317",
   "metadata": {},
   "outputs": [
    {
     "name": "stdout",
     "output_type": "stream",
     "text": [
      "[100 200 300 300 400]\n"
     ]
    }
   ],
   "source": [
    "print(sorted_arr[:5])"
   ]
  },
  {
   "cell_type": "markdown",
   "id": "4ceebf46-dce2-438e-b936-0cb8df3ad818",
   "metadata": {},
   "source": [
    "# step\n",
    "    ## [start:end:step]\n",
    "    ## step: every step element"
   ]
  },
  {
   "cell_type": "code",
   "execution_count": 96,
   "id": "c87faffa-15a3-49b1-a614-de45009aa740",
   "metadata": {},
   "outputs": [
    {
     "name": "stdout",
     "output_type": "stream",
     "text": [
      "[200 300 500]\n"
     ]
    }
   ],
   "source": [
    "our_slice=sorted_arr[1:6:2]\n",
    "print(our_slice)"
   ]
  },
  {
   "cell_type": "code",
   "execution_count": 98,
   "id": "73e60614-eca0-4435-9d39-9d1e50ed0ed7",
   "metadata": {},
   "outputs": [
    {
     "name": "stdout",
     "output_type": "stream",
     "text": [
      "Original Array\n",
      "[ 100  200  300  300  400  500  600 1900 7000]\n",
      "Every Third Element\n",
      "[100 300 600]\n"
     ]
    }
   ],
   "source": [
    "print('Original Array')\n",
    "print(sorted_arr)\n",
    "print('Every Third Element')\n",
    "every_third_element=sorted_arr[::3]\n",
    "print(every_third_element)"
   ]
  },
  {
   "cell_type": "markdown",
   "id": "247c6ab1-a79a-4cbf-a12d-5c2316c56e41",
   "metadata": {},
   "source": [
    "## Slice Reverse"
   ]
  },
  {
   "cell_type": "code",
   "execution_count": 100,
   "id": "2ee9b1ef-d0aa-4756-a104-808b0fff5c06",
   "metadata": {},
   "outputs": [
    {
     "name": "stdout",
     "output_type": "stream",
     "text": [
      "Original Array\n",
      "[ 100  200  300  300  400  500  600 1900 7000]\n",
      "Reverse Array: \n",
      "[7000 1900  600  500  400  300  300  200  100]\n"
     ]
    }
   ],
   "source": [
    "print('Original Array')\n",
    "print(sorted_arr)\n",
    "print('Reverse Array: ')\n",
    "print(sorted_arr[::-1])"
   ]
  },
  {
   "cell_type": "code",
   "execution_count": 102,
   "id": "69c10a87-32e3-4545-a502-11d80085dc07",
   "metadata": {},
   "outputs": [
    {
     "name": "stdout",
     "output_type": "stream",
     "text": [
      "Last five elements\n",
      "[ 400  500  600 1900 7000]\n"
     ]
    }
   ],
   "source": [
    "print('Last five elements')\n",
    "print(sorted_arr[-5:])"
   ]
  },
  {
   "cell_type": "code",
   "execution_count": 103,
   "id": "4127ec44-865e-47a4-a1a5-037f2d9806ed",
   "metadata": {},
   "outputs": [
    {
     "name": "stdout",
     "output_type": "stream",
     "text": [
      "Slicing done\n"
     ]
    }
   ],
   "source": [
    "print('Slicing done')"
   ]
  },
  {
   "cell_type": "code",
   "execution_count": null,
   "id": "c6d0d8e4-8f7c-4be8-97f6-bb672158b614",
   "metadata": {},
   "outputs": [],
   "source": []
  }
 ],
 "metadata": {
  "kernelspec": {
   "display_name": "Python [conda env:base] *",
   "language": "python",
   "name": "conda-base-py"
  },
  "language_info": {
   "codemirror_mode": {
    "name": "ipython",
    "version": 3
   },
   "file_extension": ".py",
   "mimetype": "text/x-python",
   "name": "python",
   "nbconvert_exporter": "python",
   "pygments_lexer": "ipython3",
   "version": "3.13.5"
  }
 },
 "nbformat": 4,
 "nbformat_minor": 5
}
