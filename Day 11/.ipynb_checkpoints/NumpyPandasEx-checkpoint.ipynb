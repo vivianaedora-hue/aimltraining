{
 "cells": [
  {
   "cell_type": "code",
   "execution_count": 1,
   "id": "27e67865-6bf3-4f78-9317-1bdb11486df1",
   "metadata": {},
   "outputs": [],
   "source": [
    "import pandas as pd\n",
    "import numpy as np"
   ]
  },
  {
   "cell_type": "code",
   "execution_count": 2,
   "id": "3d1e34d4-b274-4d75-9e4c-03d223b5ff8e",
   "metadata": {},
   "outputs": [
    {
     "name": "stdout",
     "output_type": "stream",
     "text": [
      "    Name  Age  Marks\n",
      "0   John   20     85\n",
      "1  Alice   22     90\n",
      "2    Bob   21     78\n",
      "3   Sara   23     92\n"
     ]
    }
   ],
   "source": [
    "df=pd.read_excel('students.xlsx')\n",
    "print(df)"
   ]
  },
  {
   "cell_type": "code",
   "execution_count": 3,
   "id": "2df20c0e-6cb5-4b18-b237-6fac50587859",
   "metadata": {},
   "outputs": [
    {
     "name": "stdout",
     "output_type": "stream",
     "text": [
      "Numpy Array of Marks\n",
      "[85 90 78 92]\n"
     ]
    }
   ],
   "source": [
    "marks=df['Marks'].to_numpy()\n",
    "print('Numpy Array of Marks')\n",
    "print(marks)"
   ]
  },
  {
   "cell_type": "code",
   "execution_count": 5,
   "id": "43920534-beea-49c8-994b-6451a66b2463",
   "metadata": {},
   "outputs": [
    {
     "name": "stdout",
     "output_type": "stream",
     "text": [
      "Highest marks  92\n"
     ]
    }
   ],
   "source": [
    "print('Highest marks ',np.max(marks))"
   ]
  },
  {
   "cell_type": "code",
   "execution_count": 7,
   "id": "dcea7d84-b229-48e9-89cb-3d5f809b306b",
   "metadata": {},
   "outputs": [
    {
     "name": "stdout",
     "output_type": "stream",
     "text": [
      "Lowest marks  78\n"
     ]
    }
   ],
   "source": [
    "print('Lowest marks ',np.min(marks))"
   ]
  },
  {
   "cell_type": "code",
   "execution_count": 8,
   "id": "81ed4d90-0fa4-402a-b2bc-b5e05e231773",
   "metadata": {},
   "outputs": [
    {
     "name": "stdout",
     "output_type": "stream",
     "text": [
      "Average Marks  86.25\n"
     ]
    }
   ],
   "source": [
    "print('Average Marks ',np.mean(marks))"
   ]
  },
  {
   "cell_type": "markdown",
   "id": "df887e7c-f9cc-4414-8f40-5a26c9838cc8",
   "metadata": {},
   "source": [
    "## .iloc: Label Based\n",
    "## .iloc: index based"
   ]
  },
  {
   "cell_type": "code",
   "execution_count": 11,
   "id": "b4e18dcc-b69a-48b4-8bbc-b0af3ec320ef",
   "metadata": {},
   "outputs": [
    {
     "name": "stdout",
     "output_type": "stream",
     "text": [
      "original dataframe\n",
      "    Name  Age  Marks\n",
      "0   John   20     85\n",
      "1  Alice   22     90\n",
      "2    Bob   21     78\n",
      "3   Sara   23     92\n",
      "Location : Label Based\n",
      "Name     Bob\n",
      "Marks     78\n",
      "Name: 2, dtype: object\n"
     ]
    }
   ],
   "source": [
    "#Example 1 : .loc label based\n",
    "\n",
    "print('original dataframe')\n",
    "print(df)\n",
    "print('Location : Label Based')\n",
    "print(df.loc[2,['Name','Marks']])"
   ]
  },
  {
   "cell_type": "code",
   "execution_count": 12,
   "id": "4a98454c-379b-431e-88c6-577dadc86c99",
   "metadata": {},
   "outputs": [
    {
     "name": "stdout",
     "output_type": "stream",
     "text": [
      "original dataframe\n",
      "    Name  Age  Marks\n",
      "0   John   20     85\n",
      "1  Alice   22     90\n",
      "2    Bob   21     78\n",
      "3   Sara   23     92\n",
      "Location : Index Based\n",
      "Age      21\n",
      "Marks    78\n",
      "Name: 2, dtype: object\n"
     ]
    }
   ],
   "source": [
    "#Example 2 : .iloc index based\n",
    "\n",
    "print('original dataframe')\n",
    "print(df)\n",
    "print('Location : Index Based')\n",
    "print(df.iloc[2,[1,2]])"
   ]
  },
  {
   "cell_type": "markdown",
   "id": "a7d4f7f3-8deb-496f-83d1-a860f0c3fa0f",
   "metadata": {},
   "source": [
    "# Axis in Numpy : Axis 0 : vertical direction: works column wise\n",
    "    1.Axis 0: vertical direction: works column-wise\n",
    "    2.Axis 1: horizontal direction: works rows-wise"
   ]
  },
  {
   "cell_type": "markdown",
   "id": "0ef52acc-88e2-4b7d-b55a-face0827d68a",
   "metadata": {},
   "source": [
    "# We have two students marks in 3 subjects\n",
    "# [[45,50,49],[30,45,49]"
   ]
  },
  {
   "cell_type": "code",
   "execution_count": 13,
   "id": "6143f751-c7f3-4977-a983-047b62378994",
   "metadata": {},
   "outputs": [
    {
     "name": "stdout",
     "output_type": "stream",
     "text": [
      "[[45 50 49]\n",
      " [30 45 49]]\n"
     ]
    }
   ],
   "source": [
    "marks_arr=np.array([[45,50,49],[30,45,49]])\n",
    "print(marks_arr)"
   ]
  },
  {
   "cell_type": "code",
   "execution_count": 15,
   "id": "52c1363c-8a66-4897-924c-ace88732964c",
   "metadata": {},
   "outputs": [
    {
     "name": "stdout",
     "output_type": "stream",
     "text": [
      "Sum down each column [75 95 98]\n"
     ]
    }
   ],
   "source": [
    "print('Sum down each column',np.sum(marks_arr,axis=0))"
   ]
  },
  {
   "cell_type": "code",
   "execution_count": 17,
   "id": "0ead0880-feac-4422-b683-9e585a4b20e6",
   "metadata": {},
   "outputs": [
    {
     "name": "stdout",
     "output_type": "stream",
     "text": [
      "Sum down each row [144 124]\n"
     ]
    }
   ],
   "source": [
    "print('Sum down each row',np.sum(marks_arr,axis=1))"
   ]
  },
  {
   "cell_type": "code",
   "execution_count": 18,
   "id": "9cefe020-aa59-4db8-bb1e-2d2cfcc545d4",
   "metadata": {},
   "outputs": [
    {
     "name": "stdout",
     "output_type": "stream",
     "text": [
      "Numpy Array of Marks\n",
      "[85 90 78 92]\n"
     ]
    }
   ],
   "source": [
    "print('Numpy Array of Marks')\n",
    "print(marks)"
   ]
  },
  {
   "cell_type": "code",
   "execution_count": 19,
   "id": "c1d5ae3e-a27d-4a24-8120-437093b295d8",
   "metadata": {},
   "outputs": [
    {
     "name": "stdout",
     "output_type": "stream",
     "text": [
      "    Name  Age  Marks\n",
      "0   John   20     85\n",
      "1  Alice   22     90\n",
      "2    Bob   21     78\n",
      "3   Sara   23     92\n"
     ]
    }
   ],
   "source": [
    "print(df)"
   ]
  },
  {
   "cell_type": "markdown",
   "id": "7cdab403-f3b8-4162-9a42-ddbbda84989d",
   "metadata": {},
   "source": [
    "## Find the student name who got highest marks"
   ]
  },
  {
   "cell_type": "code",
   "execution_count": 20,
   "id": "ce62b269-684b-454b-bf98-80e74f7dbd1d",
   "metadata": {},
   "outputs": [
    {
     "name": "stdout",
     "output_type": "stream",
     "text": [
      "Sara\n"
     ]
    }
   ],
   "source": [
    "topper=df.loc[df['Marks'].idxmax(),'Name']\n",
    "print(topper)"
   ]
  },
  {
   "cell_type": "code",
   "execution_count": 22,
   "id": "4b78d7f7-f754-4e64-ab99-b6d4c9921878",
   "metadata": {},
   "outputs": [
    {
     "name": "stdout",
     "output_type": "stream",
     "text": [
      "Bob\n"
     ]
    }
   ],
   "source": [
    "lastinclass=df.loc[df['Marks'].idxmin(),'Name']\n",
    "print(lastinclass)"
   ]
  },
  {
   "cell_type": "code",
   "execution_count": 23,
   "id": "ce696ef1-eea6-44c3-ba95-32a3011d4a30",
   "metadata": {},
   "outputs": [
    {
     "name": "stdout",
     "output_type": "stream",
     "text": [
      "Sara\n"
     ]
    }
   ],
   "source": [
    "lastinclass=df.loc[df['Marks'].idxmax(),'Name']\n",
    "print(lastinclass)"
   ]
  },
  {
   "cell_type": "code",
   "execution_count": 24,
   "id": "eefc5bc3-cdf4-4c61-8d1e-b07fa1aebe67",
   "metadata": {},
   "outputs": [
    {
     "name": "stdout",
     "output_type": "stream",
     "text": [
      "Next Example\n"
     ]
    }
   ],
   "source": [
    "print('Next Example')"
   ]
  },
  {
   "cell_type": "code",
   "execution_count": 28,
   "id": "d29aa391-8e51-49d3-aaad-6316ae9d18d4",
   "metadata": {},
   "outputs": [
    {
     "name": "stdout",
     "output_type": "stream",
     "text": [
      "Topper of the class is :  Sara\n"
     ]
    }
   ],
   "source": [
    "top_index = df['Marks'].idxmax()\n",
    "top_students=df.iloc[top_index,df.columns.get_loc('Name')]\n",
    "print('Topper of the class is : ',top_students)"
   ]
  },
  {
   "cell_type": "code",
   "execution_count": null,
   "id": "145589af-ba9e-4b5e-a853-f6e44dfaf317",
   "metadata": {},
   "outputs": [],
   "source": []
  },
  {
   "cell_type": "code",
   "execution_count": null,
   "id": "f0d8fe72-2127-4480-be18-66648e289737",
   "metadata": {},
   "outputs": [],
   "source": []
  }
 ],
 "metadata": {
  "kernelspec": {
   "display_name": "Python [conda env:base] *",
   "language": "python",
   "name": "conda-base-py"
  },
  "language_info": {
   "codemirror_mode": {
    "name": "ipython",
    "version": 3
   },
   "file_extension": ".py",
   "mimetype": "text/x-python",
   "name": "python",
   "nbconvert_exporter": "python",
   "pygments_lexer": "ipython3",
   "version": "3.13.5"
  }
 },
 "nbformat": 4,
 "nbformat_minor": 5
}
