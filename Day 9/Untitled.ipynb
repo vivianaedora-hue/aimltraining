{
 "cells": [
  {
   "cell_type": "code",
   "execution_count": 1,
   "id": "493e97a5-7c31-41c1-bcff-d954215cb74a",
   "metadata": {},
   "outputs": [
    {
     "name": "stdout",
     "output_type": "stream",
     "text": [
      "Second Notebook\n"
     ]
    }
   ],
   "source": [
    "print('Second Notebook')"
   ]
  },
  {
   "cell_type": "code",
   "execution_count": null,
   "id": "2c1b0cce-057b-4845-bd61-46e0ac854c8c",
   "metadata": {},
   "outputs": [],
   "source": []
  }
 ],
 "metadata": {
  "kernelspec": {
   "display_name": "Python 3 (ipykernel)",
   "language": "python",
   "name": "python3"
  },
  "language_info": {
   "codemirror_mode": {
    "name": "ipython",
    "version": 3
   },
   "file_extension": ".py",
   "mimetype": "text/x-python",
   "name": "python",
   "nbconvert_exporter": "python",
   "pygments_lexer": "ipython3",
   "version": "3.13.5"
  }
 },
 "nbformat": 4,
 "nbformat_minor": 5
}
