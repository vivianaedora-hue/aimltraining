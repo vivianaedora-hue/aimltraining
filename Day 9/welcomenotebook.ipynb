{
 "cells": [
  {
   "cell_type": "markdown",
   "id": "c38022c4-d1aa-4197-b3ce-7b72130cbce1",
   "metadata": {},
   "source": [
    "# Welcome Jupyter Notebook"
   ]
  },
  {
   "cell_type": "code",
   "execution_count": 8,
   "id": "e2d4fa5e-51cb-48d5-8e4a-4e6984af0f5b",
   "metadata": {},
   "outputs": [
    {
     "name": "stdout",
     "output_type": "stream",
     "text": [
      "Welcome Vivi\n"
     ]
    }
   ],
   "source": [
    "print('Welcome Vivi')"
   ]
  },
  {
   "cell_type": "code",
   "execution_count": 10,
   "id": "cc378ad1-9cf5-45ff-a863-d32aaa0112ff",
   "metadata": {},
   "outputs": [
    {
     "name": "stdout",
     "output_type": "stream",
     "text": [
      "1 2 3 4 5 6 7 8 9 10 11 12 13 14 15 16 17 18 19 20 21 22 23 24 25 26 27 28 29 30 31 32 33 34 35 36 37 38 39 40 41 42 43 44 45 46 47 48 49 50 51 52 53 54 55 56 57 58 59 60 61 62 63 64 65 66 67 68 69 70 71 72 73 74 75 76 77 78 79 80 81 82 83 84 85 86 87 88 89 90 91 92 93 94 95 96 97 98 99 "
     ]
    }
   ],
   "source": [
    "for i in range(1,100):\n",
    "    print(i,end=\" \")"
   ]
  },
  {
   "cell_type": "markdown",
   "id": "78aa42b6-4ac1-4614-a47d-53a1199748c2",
   "metadata": {},
   "source": [
    "# End of Notebook"
   ]
  },
  {
   "cell_type": "code",
   "execution_count": 6,
   "id": "b12a16b5-48de-48df-b77f-df069f595ff0",
   "metadata": {},
   "outputs": [],
   "source": [
    "#we are going to write one collection of numbers\n",
    "numbers=(1,2,4,5,6)"
   ]
  },
  {
   "cell_type": "code",
   "execution_count": 7,
   "id": "9df98ac5-21be-4b8b-b377-02065035c00b",
   "metadata": {},
   "outputs": [
    {
     "name": "stdout",
     "output_type": "stream",
     "text": [
      "1\n",
      "2\n",
      "4\n",
      "5\n",
      "6\n"
     ]
    }
   ],
   "source": [
    "for num in numbers:\n",
    "    print(num)"
   ]
  },
  {
   "cell_type": "code",
   "execution_count": null,
   "id": "c90bde37-68ba-4231-b55f-a78b19458ebc",
   "metadata": {},
   "outputs": [],
   "source": [
    "num1=24"
   ]
  },
  {
   "cell_type": "code",
   "execution_count": null,
   "id": "7355fb15-c6e2-4426-8c22-0b6c457c4f32",
   "metadata": {},
   "outputs": [],
   "source": [
    "num1=25"
   ]
  },
  {
   "cell_type": "code",
   "execution_count": 4,
   "id": "ae81ac10-c68b-4872-aee4-0e99cafacb26",
   "metadata": {},
   "outputs": [
    {
     "name": "stdout",
     "output_type": "stream",
     "text": [
      "Again\n"
     ]
    }
   ],
   "source": [
    "print('Again')"
   ]
  },
  {
   "cell_type": "code",
   "execution_count": 5,
   "id": "a7b498b2-a2de-44ed-bc50-d628d4eacb54",
   "metadata": {},
   "outputs": [
    {
     "name": "stdout",
     "output_type": "stream",
     "text": [
      "Next run\n"
     ]
    }
   ],
   "source": [
    "print('Next run')"
   ]
  }
 ],
 "metadata": {
  "kernelspec": {
   "display_name": "Python 3 (ipykernel)",
   "language": "python",
   "name": "python3"
  },
  "language_info": {
   "codemirror_mode": {
    "name": "ipython",
    "version": 3
   },
   "file_extension": ".py",
   "mimetype": "text/x-python",
   "name": "python",
   "nbconvert_exporter": "python",
   "pygments_lexer": "ipython3",
   "version": "3.13.5"
  }
 },
 "nbformat": 4,
 "nbformat_minor": 5
}
