{
 "cells": [
  {
   "cell_type": "markdown",
   "id": "70bd4820-2909-4ff5-bf98-28dd4be83fd3",
   "metadata": {},
   "source": [
    "# First Note book\n",
    "## Steps to print a single line\n",
    "    we will create code cell\n",
    "    we will write print command\n",
    "    we will run the cell"
   ]
  },
  {
   "cell_type": "code",
   "execution_count": 1,
   "id": "665feb6b-8d04-4cd9-bab2-abe41b34a1bb",
   "metadata": {},
   "outputs": [
    {
     "name": "stdout",
     "output_type": "stream",
     "text": [
      "Welcome to Python Notebook\n"
     ]
    }
   ],
   "source": [
    "print('Welcome to Python Notebook')"
   ]
  },
  {
   "cell_type": "markdown",
   "id": "6c7551c6-e40a-46c7-9c93-69f279ebd74c",
   "metadata": {},
   "source": [
    "## For loop example"
   ]
  },
  {
   "cell_type": "code",
   "execution_count": 2,
   "id": "793eba68-baed-4ef2-a5d0-70cf0298e14d",
   "metadata": {},
   "outputs": [
    {
     "name": "stdout",
     "output_type": "stream",
     "text": [
      "1\t2\t3\t4\t5\t6\t7\t8\t9\t10\t11\t12\t13\t14\t15\t16\t17\t18\t19\t20\t21\t22\t23\t24\t25\t26\t27\t28\t29\t30\t31\t32\t33\t34\t35\t36\t37\t38\t39\t40\t41\t42\t43\t44\t45\t46\t47\t48\t49\t50\t51\t52\t53\t54\t55\t56\t57\t58\t59\t60\t61\t62\t63\t64\t65\t66\t67\t68\t69\t70\t71\t72\t73\t74\t75\t76\t77\t78\t79\t80\t81\t82\t83\t84\t85\t86\t87\t88\t89\t90\t91\t92\t93\t94\t95\t96\t97\t98\t99\t100\t"
     ]
    }
   ],
   "source": [
    "for num in range(1,101):\n",
    "    print(num,end=\"\\t\")"
   ]
  },
  {
   "cell_type": "code",
   "execution_count": 5,
   "id": "f63d5246-c469-42e7-ac08-c1bf1377f96d",
   "metadata": {},
   "outputs": [],
   "source": [
    "players=('MS.Dhoni','Moin Ali','Rashid Khan','Dawid Warner','Joe Root','Adam')\n",
    "#need to run this first(even if add new name--> need to run!)"
   ]
  },
  {
   "cell_type": "code",
   "execution_count": 6,
   "id": "160d86c0-fe69-4239-94a4-f16c1c6462c7",
   "metadata": {},
   "outputs": [
    {
     "name": "stdout",
     "output_type": "stream",
     "text": [
      "MS.Dhoni\n",
      "Moin Ali\n",
      "Rashid Khan\n",
      "Dawid Warner\n",
      "Joe Root\n"
     ]
    }
   ],
   "source": [
    "for player in players:\n",
    "    print(player)"
   ]
  },
  {
   "cell_type": "code",
   "execution_count": null,
   "id": "7110dfd0-3aeb-4a27-bf44-943bdad3cb6b",
   "metadata": {},
   "outputs": [],
   "source": []
  }
 ],
 "metadata": {
  "kernelspec": {
   "display_name": "Python [conda env:base] *",
   "language": "python",
   "name": "conda-base-py"
  },
  "language_info": {
   "codemirror_mode": {
    "name": "ipython",
    "version": 3
   },
   "file_extension": ".py",
   "mimetype": "text/x-python",
   "name": "python",
   "nbconvert_exporter": "python",
   "pygments_lexer": "ipython3",
   "version": "3.13.5"
  }
 },
 "nbformat": 4,
 "nbformat_minor": 5
}
