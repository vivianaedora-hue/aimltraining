{
 "cells": [
  {
   "cell_type": "code",
   "execution_count": 7,
   "id": "ca2f15e6-4a3b-4a04-8da9-0c2a7ce59674",
   "metadata": {},
   "outputs": [],
   "source": [
    "import pandas as pd"
   ]
  },
  {
   "cell_type": "code",
   "execution_count": 8,
   "id": "052b0813-d147-4ee4-a599-2e900c93633f",
   "metadata": {},
   "outputs": [],
   "source": [
    "data = {\n",
    "    'Name': ['Ali', 'Sara', 'John', None, 'Mary'],\n",
    "    'Age': [25, None, 30, 22, None],\n",
    "    'City': ['KL', 'Penang', None, 'Johor', 'KL']\n",
    "}"
   ]
  },
  {
   "cell_type": "code",
   "execution_count": 11,
   "id": "cd8da5a1-6046-4a3c-99af-0103db6510a1",
   "metadata": {},
   "outputs": [
    {
     "name": "stdout",
     "output_type": "stream",
     "text": [
      "Original DataFrame:\n",
      "   Name   Age    City\n",
      "0   Ali  25.0      KL\n",
      "1  Sara   NaN  Penang\n",
      "2  John  30.0    None\n",
      "3  None  22.0   Johor\n",
      "4  Mary   NaN      KL\n"
     ]
    }
   ],
   "source": [
    "df=pd.DataFrame(data)\n",
    "print('Original DataFrame:')\n",
    "print(df)"
   ]
  },
  {
   "cell_type": "markdown",
   "id": "e684839d-5cb8-4b68-b534-869add2c898b",
   "metadata": {},
   "source": [
    "## check the missing values Row by Row"
   ]
  },
  {
   "cell_type": "code",
   "execution_count": 12,
   "id": "9eaaf861-b405-4eaa-ae99-78d4231dfb30",
   "metadata": {},
   "outputs": [
    {
     "name": "stdout",
     "output_type": "stream",
     "text": [
      "Row 0: Missing = False, Details = {'Name': False, 'Age': False, 'City': False}\n",
      "Row 1: Missing = True, Details = {'Name': False, 'Age': True, 'City': False}\n",
      "Row 2: Missing = True, Details = {'Name': False, 'Age': False, 'City': True}\n",
      "Row 3: Missing = True, Details = {'Name': True, 'Age': False, 'City': False}\n",
      "Row 4: Missing = True, Details = {'Name': False, 'Age': True, 'City': False}\n"
     ]
    }
   ],
   "source": [
    "for index, row in df.iterrows(): \n",
    "    print(f\"Row {index}: Missing = {row.isnull().any()}, Details = {row.isnull().to_dict()}\")"
   ]
  },
  {
   "cell_type": "code",
   "execution_count": 13,
   "id": "991907a8-5a1a-4bb6-ad97-832d27bcdabf",
   "metadata": {},
   "outputs": [
    {
     "name": "stdout",
     "output_type": "stream",
     "text": [
      "Rows with missing data\n",
      "   Name   Age    City\n",
      "1  Sara   NaN  Penang\n",
      "2  John  30.0    None\n",
      "3  None  22.0   Johor\n",
      "4  Mary   NaN      KL\n"
     ]
    }
   ],
   "source": [
    "# Show only rows with missing data\n",
    "missing_rows = df[df.isnull().any(axis=1)]\n",
    "print('Rows with missing data')\n",
    "print(missing_rows)"
   ]
  },
  {
   "cell_type": "code",
   "execution_count": 15,
   "id": "c882739c-e441-4179-a731-4259249ca245",
   "metadata": {},
   "outputs": [
    {
     "name": "stdout",
     "output_type": "stream",
     "text": [
      "These rows would be dropped using dropna():\n",
      "   Name   Age    City\n",
      "1  Sara   NaN  Penang\n",
      "2  John  30.0    None\n",
      "3  None  22.0   Johor\n",
      "4  Mary   NaN      KL\n"
     ]
    }
   ],
   "source": [
    "#simulate rows that would be dropped using dropna()\n",
    "to_drop = df[df.isnull().any(axis=1)]\n",
    "print('These rows would be dropped using dropna():')\n",
    "print(to_drop)"
   ]
  },
  {
   "cell_type": "code",
   "execution_count": 16,
   "id": "21efa19c-4ce9-4f58-ae66-298f6e048405",
   "metadata": {},
   "outputs": [
    {
     "name": "stdout",
     "output_type": "stream",
     "text": [
      "\n",
      "After dropna():\n",
      "  Name   Age City\n",
      "0  Ali  25.0   KL\n"
     ]
    }
   ],
   "source": [
    "df_cleaned = df.dropna()\n",
    "print('\\nAfter dropna():')\n",
    "print(df_cleaned)"
   ]
  },
  {
   "cell_type": "code",
   "execution_count": 17,
   "id": "7745094b-9615-433b-8c95-2fa758a95788",
   "metadata": {},
   "outputs": [
    {
     "name": "stdout",
     "output_type": "stream",
     "text": [
      "Before fillna():\n",
      "   Name   Age    City\n",
      "0   Ali  25.0      KL\n",
      "1  Sara   NaN  Penang\n",
      "2  John  30.0    None\n",
      "3  None  22.0   Johor\n",
      "4  Mary   NaN      KL\n"
     ]
    }
   ],
   "source": [
    "print('Before fillna():')\n",
    "print(df)"
   ]
  },
  {
   "cell_type": "code",
   "execution_count": 20,
   "id": "22b3d51d-e149-422e-956c-b52725a8f2a7",
   "metadata": {},
   "outputs": [],
   "source": [
    "df_filled = df.fillna({\n",
    "    'Name': 'Unknown',\n",
    "    'Age': df['Age'].mean(),\n",
    "    'City': 'Not available'\n",
    "})\n"
   ]
  },
  {
   "cell_type": "code",
   "execution_count": 21,
   "id": "a3b79c7d-11b0-4df4-b4d2-194afaa9e884",
   "metadata": {},
   "outputs": [
    {
     "name": "stdout",
     "output_type": "stream",
     "text": [
      "\n",
      "After fillna():\n",
      "      Name        Age           City\n",
      "0      Ali  25.000000             KL\n",
      "1     Sara  25.666667         Penang\n",
      "2     John  30.000000  Not available\n",
      "3  Unknown  22.000000          Johor\n",
      "4     Mary  25.666667             KL\n"
     ]
    }
   ],
   "source": [
    "print('\\nAfter fillna():')\n",
    "print(df_filled)"
   ]
  },
  {
   "cell_type": "code",
   "execution_count": 23,
   "id": "ee6bc92f-45f8-4a68-932b-fbd116471e26",
   "metadata": {},
   "outputs": [],
   "source": [
    "df_sfill = df.fillna({\n",
    "    'Name': 'Unknown',\n",
    "    'Age': round(df['Age'].mean(), 2),\n",
    "    'City': 'Not available'\n",
    "})\n"
   ]
  },
  {
   "cell_type": "code",
   "execution_count": 24,
   "id": "a6b58b92-333b-4260-83d4-8161d270c5ff",
   "metadata": {},
   "outputs": [
    {
     "name": "stdout",
     "output_type": "stream",
     "text": [
      "\n",
      "After fillna(): age upto to decimal digit\n",
      "      Name    Age           City\n",
      "0      Ali  25.00             KL\n",
      "1     Sara  25.67         Penang\n",
      "2     John  30.00  Not available\n",
      "3  Unknown  22.00          Johor\n",
      "4     Mary  25.67             KL\n"
     ]
    }
   ],
   "source": [
    "print('\\nAfter fillna(): age upto to decimal digit')\n",
    "print(df_sfill)"
   ]
  },
  {
   "cell_type": "code",
   "execution_count": 25,
   "id": "63068be8-b897-4417-962e-68c4cc8f2a0e",
   "metadata": {},
   "outputs": [],
   "source": [
    "import math"
   ]
  },
  {
   "cell_type": "code",
   "execution_count": 29,
   "id": "448d98c7-35a7-4525-a28f-045aead224b1",
   "metadata": {},
   "outputs": [],
   "source": [
    "df_new = df.fillna({\n",
    "    'Name': 'Unknown',\n",
    "    'Age': math.floor(df['Age'].mean()),   # floor() rounds down the average\n",
    "    'City': 'Not available'\n",
    "})\n"
   ]
  },
  {
   "cell_type": "code",
   "execution_count": 30,
   "id": "29187498-c3bd-4974-ae35-3e7296bfc644",
   "metadata": {},
   "outputs": [
    {
     "name": "stdout",
     "output_type": "stream",
     "text": [
      "\n",
      "After fillna(): floor without decimal\n",
      "      Name   Age           City\n",
      "0      Ali  25.0             KL\n",
      "1     Sara  25.0         Penang\n",
      "2     John  30.0  Not available\n",
      "3  Unknown  22.0          Johor\n",
      "4     Mary  25.0             KL\n"
     ]
    }
   ],
   "source": [
    "print('\\nAfter fillna(): floor without decimal')\n",
    "print(df_new)"
   ]
  },
  {
   "cell_type": "markdown",
   "id": "42bbd532-799d-4a84-8c04-7bca07057a3f",
   "metadata": {},
   "source": [
    "## Data Cleaning Exercise\n",
    "## Step 1:Use day 15 students_performance_dirty.csv, downloaf from github (if don't have)\n",
    "## Step 2: Get basic information about dataset\n",
    "## Step 3: print('Missing values per column:')\n",
    "## Step 4: Check missing data line by line\n",
    "## Step 5: Drop missing rows (if any)\n",
    "## Step 6: Compare before and after\n",
    "## Step 7: Fill missing values\n",
    "## Step 8: Compare before and after\n"
   ]
  },
  {
   "cell_type": "code",
   "execution_count": 32,
   "id": "2c05f5ed-76df-43c2-8139-f8a247fbef6d",
   "metadata": {},
   "outputs": [],
   "source": [
    "import pandas as pd\n",
    "\n",
    "df = pd.read_csv(\"C:/Users/Asus/Desktop/aimltraining/Day 15/students_performance_dirty.csv\")\n"
   ]
  },
  {
   "cell_type": "code",
   "execution_count": 33,
   "id": "d23f92bc-58f3-4f7d-9fb0-c2c9304d1399",
   "metadata": {},
   "outputs": [
    {
     "name": "stdout",
     "output_type": "stream",
     "text": [
      "Basic Information:\n",
      "<class 'pandas.core.frame.DataFrame'>\n",
      "RangeIndex: 60 entries, 0 to 59\n",
      "Data columns (total 6 columns):\n",
      " #   Column          Non-Null Count  Dtype  \n",
      "---  ------          --------------  -----  \n",
      " 0   gender          52 non-null     object \n",
      " 1   study_hours     52 non-null     float64\n",
      " 2   attendance_pct  60 non-null     float64\n",
      " 3   math_score      60 non-null     float64\n",
      " 4   reading_score   60 non-null     float64\n",
      " 5   final_score     60 non-null     float64\n",
      "dtypes: float64(5), object(1)\n",
      "memory usage: 2.9+ KB\n",
      "None\n",
      "\n",
      "\n"
     ]
    }
   ],
   "source": [
    "# Step 2: Get basic information about dataset\n",
    "print(\"Basic Information:\")\n",
    "print(df.info())\n",
    "print(\"\\n\")"
   ]
  },
  {
   "cell_type": "code",
   "execution_count": 34,
   "id": "eead2bee-e85e-4f29-b821-211e37563765",
   "metadata": {},
   "outputs": [
    {
     "name": "stdout",
     "output_type": "stream",
     "text": [
      "Missing values per column:\n",
      "gender            8\n",
      "study_hours       8\n",
      "attendance_pct    0\n",
      "math_score        0\n",
      "reading_score     0\n",
      "final_score       0\n",
      "dtype: int64\n",
      "\n",
      "\n"
     ]
    }
   ],
   "source": [
    "# Step 3: Check missing values per column\n",
    "print(\"Missing values per column:\")\n",
    "print(df.isnull().sum())\n",
    "print(\"\\n\")"
   ]
  },
  {
   "cell_type": "code",
   "execution_count": 35,
   "id": "5906cbae-7924-43e7-b4b1-d3bd9b77ca35",
   "metadata": {},
   "outputs": [
    {
     "name": "stdout",
     "output_type": "stream",
     "text": [
      "Rows with missing data:\n",
      "    gender  study_hours  attendance_pct  math_score  reading_score  \\\n",
      "1      NaN          2.6            91.2        82.0           60.0   \n",
      "6     male          NaN            87.1        95.0           78.0   \n",
      "7    femle          NaN            70.6        59.0           70.0   \n",
      "11     NaN          4.6            86.2        63.0           78.0   \n",
      "12   femle          NaN            95.0        59.0           92.0   \n",
      "13    male          NaN            86.5        61.0           50.0   \n",
      "20  female          NaN            93.5        65.0           54.0   \n",
      "28  female          NaN            71.7        65.0           53.0   \n",
      "33     NaN          NaN            96.0        39.0           96.0   \n",
      "34     NaN          3.6            91.3        64.0           62.0   \n",
      "43     NaN          3.9            76.5        78.0           73.0   \n",
      "50     NaN          3.0            84.9        78.0           85.0   \n",
      "52     NaN          3.9            91.1        60.0           68.0   \n",
      "55     NaN          3.2           300.0        51.0           82.0   \n",
      "59    male          NaN            80.2        51.0           68.0   \n",
      "\n",
      "    final_score  \n",
      "1          37.5  \n",
      "6          43.4  \n",
      "7          32.8  \n",
      "11         36.9  \n",
      "12         39.7  \n",
      "13         30.8  \n",
      "20         33.1  \n",
      "28         30.8  \n",
      "33         36.6  \n",
      "34         34.2  \n",
      "43         37.8  \n",
      "50         40.9  \n",
      "52         34.7  \n",
      "55         56.6  \n",
      "59         31.7  \n",
      "\n",
      "\n"
     ]
    }
   ],
   "source": [
    "# Step 4: Check missing data line by line\n",
    "print(\"Rows with missing data:\")\n",
    "print(df[df.isnull().any(axis=1)])\n",
    "print(\"\\n\")"
   ]
  },
  {
   "cell_type": "code",
   "execution_count": 36,
   "id": "2be63715-70ca-4081-9c6a-facab628d403",
   "metadata": {},
   "outputs": [],
   "source": [
    "# Step 5: Drop missing rows (if any)\n",
    "df_cleaned = df.dropna()\n"
   ]
  },
  {
   "cell_type": "code",
   "execution_count": 37,
   "id": "9bf594f5-651a-4eb3-9522-4c910ddcf38d",
   "metadata": {},
   "outputs": [
    {
     "name": "stdout",
     "output_type": "stream",
     "text": [
      "Before cleaning:  (60, 6)\n",
      "After cleaning:  (45, 6)\n"
     ]
    }
   ],
   "source": [
    "# Step 6: Compare before and after\n",
    "print(\"Before cleaning: \", df.shape)\n",
    "print(\"After cleaning: \", df_cleaned.shape)"
   ]
  },
  {
   "cell_type": "code",
   "execution_count": 39,
   "id": "db4063a6-bfa4-4229-b6a0-ccdc9b50f11d",
   "metadata": {},
   "outputs": [],
   "source": [
    "#Step 7: Fill missing values (example approach)\n",
    "df_fill = df.fillna({\n",
    "    'gender': 'Unknown',\n",
    "    'study_hours': df['study_hours'].mean()\n",
    "})"
   ]
  },
  {
   "cell_type": "code",
   "execution_count": 40,
   "id": "7490b363-199c-40eb-9a80-465f3197f26c",
   "metadata": {},
   "outputs": [
    {
     "name": "stdout",
     "output_type": "stream",
     "text": [
      "\n",
      "=== Missing values after fillna() ===\n",
      "gender            0\n",
      "study_hours       0\n",
      "attendance_pct    0\n",
      "math_score        0\n",
      "reading_score     0\n",
      "final_score       0\n",
      "dtype: int64\n",
      "\n",
      "=== Before filling ===\n",
      "gender            8\n",
      "study_hours       8\n",
      "attendance_pct    0\n",
      "math_score        0\n",
      "reading_score     0\n",
      "final_score       0\n",
      "dtype: int64\n",
      "\n",
      "=== After filling ===\n",
      "gender            0\n",
      "study_hours       0\n",
      "attendance_pct    0\n",
      "math_score        0\n",
      "reading_score     0\n",
      "final_score       0\n",
      "dtype: int64\n"
     ]
    }
   ],
   "source": [
    "# Step 8: Compare before and after filling\n",
    "print(\"\\n=== Missing values after fillna() ===\")\n",
    "print(df_fill.isnull().sum())\n",
    "\n",
    "print(\"\\n=== Before filling ===\")\n",
    "print(df.isnull().sum())\n",
    "\n",
    "print(\"\\n=== After filling ===\")\n",
    "print(df_fill.isnull().sum())"
   ]
  },
  {
   "cell_type": "code",
   "execution_count": 43,
   "id": "a79e383a-5a26-46b0-a461-2a8ba5cad4ca",
   "metadata": {},
   "outputs": [
    {
     "name": "stdout",
     "output_type": "stream",
     "text": [
      "\n",
      "Row 0 Before: {'gender': 'male', 'study_hours': 1.7, 'attendance_pct': 83.6, 'math_score': 62.0, 'reading_score': 91.0, 'final_score': 38.9}\n",
      "Row 0 After: {'Name': 'Ali', 'Age': 25.0, 'City': 'KL'}\n",
      "\n",
      "Row 1 Before: {'gender': nan, 'study_hours': 2.6, 'attendance_pct': 91.2, 'math_score': 82.0, 'reading_score': 60.0, 'final_score': 37.5}\n",
      "Row 1 After: {'Name': 'Sara', 'Age': 25.666666666666668, 'City': 'Penang'}\n",
      "\n",
      "Row 2 Before: {'gender': 'female', 'study_hours': 2.9, 'attendance_pct': 97.5, 'math_score': 69.0, 'reading_score': 57.0, 'final_score': 35.0}\n",
      "Row 2 After: {'Name': 'John', 'Age': 30.0, 'City': 'Not available'}\n",
      "\n",
      "Row 3 Before: {'gender': 'female', 'study_hours': 4.8, 'attendance_pct': 85.7, 'math_score': 78.0, 'reading_score': 62.0, 'final_score': 36.5}\n",
      "Row 3 After: {'Name': 'Unknown', 'Age': 22.0, 'City': 'Johor'}\n",
      "\n",
      "Row 4 Before: {'gender': 'male', 'study_hours': 3.9, 'attendance_pct': -10.0, 'math_score': 64.0, 'reading_score': 95.0, 'final_score': 30.9}\n",
      "Row 4 After: {'Name': 'Mary', 'Age': 25.666666666666668, 'City': 'KL'}\n",
      "\n",
      "Row 5 Before: {'gender': 'male', 'study_hours': 1.4, 'attendance_pct': 93.7, 'math_score': 77.0, 'reading_score': 72.0, 'final_score': 39.0}\n"
     ]
    },
    {
     "ename": "IndexError",
     "evalue": "single positional indexer is out-of-bounds",
     "output_type": "error",
     "traceback": [
      "\u001b[1;31m---------------------------------------------------------------------------\u001b[0m",
      "\u001b[1;31mIndexError\u001b[0m                                Traceback (most recent call last)",
      "Cell \u001b[1;32mIn[43], line 5\u001b[0m\n\u001b[0;32m      3\u001b[0m \u001b[38;5;28;01mfor\u001b[39;00m i \u001b[38;5;129;01min\u001b[39;00m \u001b[38;5;28mrange\u001b[39m(\u001b[38;5;28mlen\u001b[39m(df)):\n\u001b[0;32m      4\u001b[0m     \u001b[38;5;28mprint\u001b[39m(\u001b[38;5;124mf\u001b[39m\u001b[38;5;124m\"\u001b[39m\u001b[38;5;130;01m\\n\u001b[39;00m\u001b[38;5;124mRow \u001b[39m\u001b[38;5;132;01m{\u001b[39;00mi\u001b[38;5;132;01m}\u001b[39;00m\u001b[38;5;124m Before: \u001b[39m\u001b[38;5;132;01m{\u001b[39;00mdf\u001b[38;5;241m.\u001b[39miloc[i]\u001b[38;5;241m.\u001b[39mto_dict()\u001b[38;5;132;01m}\u001b[39;00m\u001b[38;5;124m\"\u001b[39m)\n\u001b[1;32m----> 5\u001b[0m     \u001b[38;5;28mprint\u001b[39m(\u001b[38;5;124mf\u001b[39m\u001b[38;5;124m\"\u001b[39m\u001b[38;5;124mRow \u001b[39m\u001b[38;5;132;01m{\u001b[39;00mi\u001b[38;5;132;01m}\u001b[39;00m\u001b[38;5;124m After: \u001b[39m\u001b[38;5;132;01m{\u001b[39;00mdf_filled\u001b[38;5;241m.\u001b[39miloc[i]\u001b[38;5;241m.\u001b[39mto_dict()\u001b[38;5;132;01m}\u001b[39;00m\u001b[38;5;124m\"\u001b[39m)\n",
      "File \u001b[1;32m~\\anaconda3\\Lib\\site-packages\\pandas\\core\\indexing.py:1191\u001b[0m, in \u001b[0;36m_LocationIndexer.__getitem__\u001b[1;34m(self, key)\u001b[0m\n\u001b[0;32m   1189\u001b[0m maybe_callable \u001b[38;5;241m=\u001b[39m com\u001b[38;5;241m.\u001b[39mapply_if_callable(key, \u001b[38;5;28mself\u001b[39m\u001b[38;5;241m.\u001b[39mobj)\n\u001b[0;32m   1190\u001b[0m maybe_callable \u001b[38;5;241m=\u001b[39m \u001b[38;5;28mself\u001b[39m\u001b[38;5;241m.\u001b[39m_check_deprecated_callable_usage(key, maybe_callable)\n\u001b[1;32m-> 1191\u001b[0m \u001b[38;5;28;01mreturn\u001b[39;00m \u001b[38;5;28mself\u001b[39m\u001b[38;5;241m.\u001b[39m_getitem_axis(maybe_callable, axis\u001b[38;5;241m=\u001b[39maxis)\n",
      "File \u001b[1;32m~\\anaconda3\\Lib\\site-packages\\pandas\\core\\indexing.py:1752\u001b[0m, in \u001b[0;36m_iLocIndexer._getitem_axis\u001b[1;34m(self, key, axis)\u001b[0m\n\u001b[0;32m   1749\u001b[0m     \u001b[38;5;28;01mraise\u001b[39;00m \u001b[38;5;167;01mTypeError\u001b[39;00m(\u001b[38;5;124m\"\u001b[39m\u001b[38;5;124mCannot index by location index with a non-integer key\u001b[39m\u001b[38;5;124m\"\u001b[39m)\n\u001b[0;32m   1751\u001b[0m \u001b[38;5;66;03m# validate the location\u001b[39;00m\n\u001b[1;32m-> 1752\u001b[0m \u001b[38;5;28mself\u001b[39m\u001b[38;5;241m.\u001b[39m_validate_integer(key, axis)\n\u001b[0;32m   1754\u001b[0m \u001b[38;5;28;01mreturn\u001b[39;00m \u001b[38;5;28mself\u001b[39m\u001b[38;5;241m.\u001b[39mobj\u001b[38;5;241m.\u001b[39m_ixs(key, axis\u001b[38;5;241m=\u001b[39maxis)\n",
      "File \u001b[1;32m~\\anaconda3\\Lib\\site-packages\\pandas\\core\\indexing.py:1685\u001b[0m, in \u001b[0;36m_iLocIndexer._validate_integer\u001b[1;34m(self, key, axis)\u001b[0m\n\u001b[0;32m   1683\u001b[0m len_axis \u001b[38;5;241m=\u001b[39m \u001b[38;5;28mlen\u001b[39m(\u001b[38;5;28mself\u001b[39m\u001b[38;5;241m.\u001b[39mobj\u001b[38;5;241m.\u001b[39m_get_axis(axis))\n\u001b[0;32m   1684\u001b[0m \u001b[38;5;28;01mif\u001b[39;00m key \u001b[38;5;241m>\u001b[39m\u001b[38;5;241m=\u001b[39m len_axis \u001b[38;5;129;01mor\u001b[39;00m key \u001b[38;5;241m<\u001b[39m \u001b[38;5;241m-\u001b[39mlen_axis:\n\u001b[1;32m-> 1685\u001b[0m     \u001b[38;5;28;01mraise\u001b[39;00m \u001b[38;5;167;01mIndexError\u001b[39;00m(\u001b[38;5;124m\"\u001b[39m\u001b[38;5;124msingle positional indexer is out-of-bounds\u001b[39m\u001b[38;5;124m\"\u001b[39m)\n",
      "\u001b[1;31mIndexError\u001b[0m: single positional indexer is out-of-bounds"
     ]
    }
   ],
   "source": [
    "#step 8 compare before and after\n",
    "# compare each row before and after fillna()\n",
    "for i in range(len(df)):\n",
    "    print(f\"\\nRow {i} Before: {df.iloc[i].to_dict()}\")\n",
    "    print(f\"Row {i} After: {df_filled.iloc[i].to_dict()}\")"
   ]
  },
  {
   "cell_type": "code",
   "execution_count": null,
   "id": "4449eba6-e2b6-4cda-941f-3922114f1d4c",
   "metadata": {},
   "outputs": [],
   "source": []
  }
 ],
 "metadata": {
  "kernelspec": {
   "display_name": "Python [conda env:base] *",
   "language": "python",
   "name": "conda-base-py"
  },
  "language_info": {
   "codemirror_mode": {
    "name": "ipython",
    "version": 3
   },
   "file_extension": ".py",
   "mimetype": "text/x-python",
   "name": "python",
   "nbconvert_exporter": "python",
   "pygments_lexer": "ipython3",
   "version": "3.13.5"
  }
 },
 "nbformat": 4,
 "nbformat_minor": 5
}
