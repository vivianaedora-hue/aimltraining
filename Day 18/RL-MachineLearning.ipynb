{
 "cells": [
  {
   "cell_type": "code",
   "execution_count": 1,
   "id": "4700ca6c-baf1-4559-867d-c8acd1ed9126",
   "metadata": {},
   "outputs": [],
   "source": [
    "import numpy as np\n",
    "import random"
   ]
  },
  {
   "cell_type": "code",
   "execution_count": 24,
   "id": "b0e6ac3a-ab13-44ec-a823-9907858b7de4",
   "metadata": {},
   "outputs": [],
   "source": [
    "states = np.arange(16,31)\n",
    "actions = ['ON','OFF']"
   ]
  },
  {
   "cell_type": "code",
   "execution_count": 25,
   "id": "f694d728-be2c-4474-bdfb-3d523f926105",
   "metadata": {},
   "outputs": [
    {
     "name": "stdout",
     "output_type": "stream",
     "text": [
      "[16 17 18 19 20 21 22 23 24 25 26 27 28 29 30]\n",
      "['ON', 'OFF']\n"
     ]
    }
   ],
   "source": [
    "print(states)\n",
    "print(actions)"
   ]
  },
  {
   "cell_type": "code",
   "execution_count": 26,
   "id": "104479c6-88e2-4a3f-bfeb-850b5b293d5d",
   "metadata": {},
   "outputs": [],
   "source": [
    "#q table is [s,a] state, action\n",
    "Q = np.zeros((len(states),len(actions)))"
   ]
  },
  {
   "cell_type": "code",
   "execution_count": 27,
   "id": "621745db-2bac-4449-b71b-21d77b7e5def",
   "metadata": {},
   "outputs": [],
   "source": [
    "#alpha : (0-1)\n",
    "#gama: 1\n",
    "#epsilon:probability\n",
    "#episodes: independent trainig runs ()\n",
    "alpha = 0.1\n",
    "gamma = 0.9\n",
    "epsilon = 0.2\n",
    "episodes = 300"
   ]
  },
  {
   "cell_type": "code",
   "execution_count": 28,
   "id": "4eced8d8-3d65-41f6-bd16-c8cde7515a0f",
   "metadata": {},
   "outputs": [],
   "source": [
    "# Step 3: Write Reward Function\n",
    "\n",
    "def get_reward(temp, action):\n",
    "    # Base comfort reward\n",
    "    if 20 <= temp <= 24:\n",
    "        reward = 10  # comfortable\n",
    "    else:\n",
    "        reward = -5  # uncomfortable\n",
    "\n",
    "    # Energy cost\n",
    "    if action == 'ON':\n",
    "        reward -= 2  # cost of energy\n",
    "\n",
    "    return reward\n"
   ]
  },
  {
   "cell_type": "code",
   "execution_count": 29,
   "id": "e0181271-e945-4f9c-b5d6-ed7e3f9fe05f",
   "metadata": {},
   "outputs": [],
   "source": [
    "# Step 4: Environment Dynamic Change (e.g. Temperature Changes)\n",
    "def next_temp(temp, action):\n",
    "    if action == \"ON\":\n",
    "        temp -= random.choice([1, 2])\n",
    "    else:\n",
    "        temp += random.choice([0, 1, 2])\n",
    "    \n",
    "    # Keep temperature between 16°C and 30°C\n",
    "    return int(np.clip(temp, 16, 30))\n"
   ]
  },
  {
   "cell_type": "code",
   "execution_count": 30,
   "id": "37fddfc5-4830-457c-901f-f665bec6609e",
   "metadata": {},
   "outputs": [
    {
     "name": "stdout",
     "output_type": "stream",
     "text": [
      "Training Done\n"
     ]
    }
   ],
   "source": [
    "# Step 5: Training Loop\n",
    "for ep in range(episodes):\n",
    "    temp = random.choice(states)\n",
    "    done = False\n",
    "\n",
    "    for _ in range(20):  # limit steps per episode\n",
    "        # Choose action (epsilon-greedy)\n",
    "        if random.uniform(0, 1) < epsilon:\n",
    "            action = random.choice(actions)\n",
    "        else:\n",
    "            action = actions[np.argmax(Q[temp - 16])]\n",
    "\n",
    "        # Get next state and reward\n",
    "        next_state = next_temp(temp, action)\n",
    "        reward = get_reward(next_state, action)\n",
    "        # Update Q-value\n",
    "        a = actions.index(action)\n",
    "        best_next = np.max(Q[next_state - 16])\n",
    "        Q[temp - 16, a] += alpha * (reward + gamma * best_next - Q[temp - 16, a])\n",
    "\n",
    "        # move to next state\n",
    "        temp = next_state\n",
    "\n",
    "        \n",
    "print('Training Done')"
   ]
  },
  {
   "cell_type": "code",
   "execution_count": 31,
   "id": "40117dcd-140f-455d-a8d7-b9f71353af84",
   "metadata": {},
   "outputs": [
    {
     "name": "stdout",
     "output_type": "stream",
     "text": [
      "Step 1: Temp = 28°C → Action = ON\n",
      "Step 2: Temp = 27°C → Action = ON\n",
      "Step 3: Temp = 25°C → Action = ON\n",
      "Step 4: Temp = 23°C → Action = ON\n",
      "Step 5: Temp = 21°C → Action = OFF\n",
      "Step 6: Temp = 21°C → Action = OFF\n",
      "Step 7: Temp = 23°C → Action = ON\n",
      "Step 8: Temp = 21°C → Action = OFF\n",
      "Step 9: Temp = 21°C → Action = OFF\n",
      "Step 10: Temp = 22°C → Action = OFF\n"
     ]
    }
   ],
   "source": [
    "# Test Learned Policy\n",
    "temp = 28\n",
    "\n",
    "for step in range(10):\n",
    "    action = actions[np.argmax(Q[temp - 16])]  # use '=' and proper indexing\n",
    "    print(f\"Step {step + 1}: Temp = {temp}°C → Action = {action}\")\n",
    "    temp = next_temp(temp, action)  # update temperature correctly\n"
   ]
  },
  {
   "cell_type": "code",
   "execution_count": 32,
   "id": "a6e4d8ad-c8f1-4557-a5a0-d776975082dc",
   "metadata": {},
   "outputs": [
    {
     "name": "stdin",
     "output_type": "stream",
     "text": [
      "Enter Starting Room Temp (16-30):  20\n"
     ]
    },
    {
     "name": "stdout",
     "output_type": "stream",
     "text": [
      "\n",
      "Starting temp: 20°C\n",
      "Step 1: Temp = 20°C → Action = OFF\n",
      "Step 2: Temp = 22°C → Action = OFF\n",
      "Step 3: Temp = 22°C → Action = OFF\n",
      "Step 4: Temp = 23°C → Action = ON\n",
      "Step 5: Temp = 21°C → Action = OFF\n",
      "Step 6: Temp = 23°C → Action = ON\n",
      "Step 7: Temp = 22°C → Action = OFF\n",
      "Step 8: Temp = 24°C → Action = ON\n",
      "Step 9: Temp = 22°C → Action = OFF\n",
      "Step 10: Temp = 23°C → Action = ON\n",
      "\n",
      "Done \n"
     ]
    }
   ],
   "source": [
    "try:\n",
    "    temp = int(input(\"Enter Starting Room Temp (16-30): \"))\n",
    "\n",
    "    if temp < 16 or temp > 30:\n",
    "        raise ValueError(\"Temperature out of range!\")\n",
    "\n",
    "except ValueError as ve:\n",
    "    print(ve)\n",
    "    temp = 25\n",
    "    print(\"Set to default: 25°C\")\n",
    "\n",
    "print(f\"\\nStarting temp: {temp}°C\")\n",
    "\n",
    "for step in range(10):\n",
    "    action = actions[np.argmax(Q[temp - 16])]\n",
    "    print(f\"Step {step + 1}: Temp = {temp}°C → Action = {action}\")\n",
    "    temp = next_temp(temp, action)\n",
    "\n",
    "print(\"\\nDone \")\n"
   ]
  },
  {
   "cell_type": "code",
   "execution_count": null,
   "id": "093d28b2-a402-43c6-89c1-007ebb6365bc",
   "metadata": {},
   "outputs": [],
   "source": []
  }
 ],
 "metadata": {
  "kernelspec": {
   "display_name": "Python [conda env:base] *",
   "language": "python",
   "name": "conda-base-py"
  },
  "language_info": {
   "codemirror_mode": {
    "name": "ipython",
    "version": 3
   },
   "file_extension": ".py",
   "mimetype": "text/x-python",
   "name": "python",
   "nbconvert_exporter": "python",
   "pygments_lexer": "ipython3",
   "version": "3.13.5"
  }
 },
 "nbformat": 4,
 "nbformat_minor": 5
}
