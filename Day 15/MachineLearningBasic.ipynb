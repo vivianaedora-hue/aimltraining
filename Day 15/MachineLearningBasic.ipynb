{
 "cells": [
  {
   "cell_type": "code",
   "execution_count": 1,
   "id": "4213a9f7-eb51-49fc-a567-237e9154d8aa",
   "metadata": {},
   "outputs": [],
   "source": [
    "import pandas as pd\n",
    "from sklearn.model_selection import train_test_split\n",
    "from sklearn.linear_model import LinearRegression"
   ]
  },
  {
   "cell_type": "code",
   "execution_count": 5,
   "id": "dba57d07-cf64-40ae-8dd2-0862fdacdef7",
   "metadata": {},
   "outputs": [
    {
     "data": {
      "text/html": [
       "<div>\n",
       "<style scoped>\n",
       "    .dataframe tbody tr th:only-of-type {\n",
       "        vertical-align: middle;\n",
       "    }\n",
       "\n",
       "    .dataframe tbody tr th {\n",
       "        vertical-align: top;\n",
       "    }\n",
       "\n",
       "    .dataframe thead th {\n",
       "        text-align: right;\n",
       "    }\n",
       "</style>\n",
       "<table border=\"1\" class=\"dataframe\">\n",
       "  <thead>\n",
       "    <tr style=\"text-align: right;\">\n",
       "      <th></th>\n",
       "      <th>Hours</th>\n",
       "      <th>Marks</th>\n",
       "    </tr>\n",
       "  </thead>\n",
       "  <tbody>\n",
       "    <tr>\n",
       "      <th>0</th>\n",
       "      <td>1</td>\n",
       "      <td>25</td>\n",
       "    </tr>\n",
       "    <tr>\n",
       "      <th>1</th>\n",
       "      <td>2</td>\n",
       "      <td>35</td>\n",
       "    </tr>\n",
       "    <tr>\n",
       "      <th>2</th>\n",
       "      <td>3</td>\n",
       "      <td>45</td>\n",
       "    </tr>\n",
       "    <tr>\n",
       "      <th>3</th>\n",
       "      <td>4</td>\n",
       "      <td>50</td>\n",
       "    </tr>\n",
       "    <tr>\n",
       "      <th>4</th>\n",
       "      <td>5</td>\n",
       "      <td>55</td>\n",
       "    </tr>\n",
       "    <tr>\n",
       "      <th>5</th>\n",
       "      <td>6</td>\n",
       "      <td>65</td>\n",
       "    </tr>\n",
       "    <tr>\n",
       "      <th>6</th>\n",
       "      <td>7</td>\n",
       "      <td>70</td>\n",
       "    </tr>\n",
       "    <tr>\n",
       "      <th>7</th>\n",
       "      <td>8</td>\n",
       "      <td>80</td>\n",
       "    </tr>\n",
       "  </tbody>\n",
       "</table>\n",
       "</div>"
      ],
      "text/plain": [
       "   Hours  Marks\n",
       "0      1     25\n",
       "1      2     35\n",
       "2      3     45\n",
       "3      4     50\n",
       "4      5     55\n",
       "5      6     65\n",
       "6      7     70\n",
       "7      8     80"
      ]
     },
     "execution_count": 5,
     "metadata": {},
     "output_type": "execute_result"
    }
   ],
   "source": [
    "data = {\n",
    "    'Hours': [1,2,3,4,5,6,7,8],\n",
    "    'Marks': [25,35,45,50,55,65,70,80]\n",
    "}\n",
    "df=pd.DataFrame(data)\n",
    "df"
   ]
  },
  {
   "cell_type": "code",
   "execution_count": 6,
   "id": "51802578-05a9-4c30-b470-2014580f1fcd",
   "metadata": {},
   "outputs": [],
   "source": [
    "# Step 3: Define features and target\n",
    "X = df[['Hours']]\n",
    "y = df[['Marks']]"
   ]
  },
  {
   "cell_type": "code",
   "execution_count": 7,
   "id": "244e3f6e-75d5-4dc2-b6be-a7d5d3b8613c",
   "metadata": {},
   "outputs": [
    {
     "name": "stdout",
     "output_type": "stream",
     "text": [
      "Training samples: 6\n",
      "Testing samples: 2\n"
     ]
    }
   ],
   "source": [
    "# Step 4: Split Data into train & test sets\n",
    "X_train, X_test, y_train, y_test = train_test_split(X,y)\n",
    "print(\"Training samples:\",len(X_train))\n",
    "print(\"Testing samples:\",len(X_test))"
   ]
  },
  {
   "cell_type": "code",
   "execution_count": 9,
   "id": "cf0c4336-57a9-41f0-82f4-fd5d6f9de292",
   "metadata": {},
   "outputs": [
    {
     "name": "stdout",
     "output_type": "stream",
     "text": [
      "Model trained succesfully!\n"
     ]
    }
   ],
   "source": [
    "# Step 5: Create the model # Step 6 : Train the model\n",
    "model = LinearRegression()\n",
    "model.fit(X_train, y_train)\n",
    "print(\"Model trained succesfully!\")"
   ]
  },
  {
   "cell_type": "code",
   "execution_count": 12,
   "id": "16a4b74b-ae51-44c5-b5ac-76d9e64f06fb",
   "metadata": {},
   "outputs": [
    {
     "name": "stdout",
     "output_type": "stream",
     "text": [
      "[[70]\n",
      " [25]]\n",
      "   Hours\n",
      "6      7\n",
      "0      1\n",
      "Actual: [array([70]), array([25])]\n",
      "Predicted: [array([72.]), array([28.28571429])]\n"
     ]
    }
   ],
   "source": [
    "y_pred = model.predict(X_test)\n",
    "print(y_test.values)\n",
    "print(X_test)\n",
    "print(\"Actual:\",list(y_test.values))\n",
    "print(\"Predicted:\", list(y_pred))"
   ]
  },
  {
   "cell_type": "code",
   "execution_count": null,
   "id": "6fc8c3ab-1adb-4539-ab10-a9059b73786b",
   "metadata": {},
   "outputs": [],
   "source": []
  }
 ],
 "metadata": {
  "kernelspec": {
   "display_name": "Python [conda env:base] *",
   "language": "python",
   "name": "conda-base-py"
  },
  "language_info": {
   "codemirror_mode": {
    "name": "ipython",
    "version": 3
   },
   "file_extension": ".py",
   "mimetype": "text/x-python",
   "name": "python",
   "nbconvert_exporter": "python",
   "pygments_lexer": "ipython3",
   "version": "3.13.5"
  }
 },
 "nbformat": 4,
 "nbformat_minor": 5
}
