{
 "cells": [
  {
   "cell_type": "code",
   "execution_count": null,
   "id": "d1a7b284-c34e-45ed-a551-cc0cb48c3579",
   "metadata": {},
   "outputs": [],
   "source": []
  }
 ],
 "metadata": {
  "kernelspec": {
   "display_name": "",
   "name": ""
  },
  "language_info": {
   "name": ""
  }
 },
 "nbformat": 4,
 "nbformat_minor": 5
}
