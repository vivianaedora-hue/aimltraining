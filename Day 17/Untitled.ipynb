{
 "cells": [
  {
   "cell_type": "code",
   "execution_count": null,
   "id": "d8337d7d-2453-40ab-a282-c2aa29d9fd53",
   "metadata": {},
   "outputs": [],
   "source": [
    "import pandas as pd\n",
    "sklearn.tree import DecisonTreeClassifier"
   ]
  },
  {
   "cell_type": "code",
   "execution_count": null,
   "id": "4f1310aa-81b7-4d33-80fd-f9f2afdd786d",
   "metadata": {},
   "outputs": [],
   "source": [
    "X= df[['Age', 'Income']]\n",
    "y = df['Buy']"
   ]
  },
  {
   "cell_type": "code",
   "execution_count": null,
   "id": "3835fca7-0ea2-4987-9234-9238c59c19df",
   "metadata": {},
   "outputs": [],
   "source": [
    "encoder = oneHotEncoder(sparse_output=False)\n",
    "income_encoded = encoder.fit_transform(df[['Income']])\n",
    "income_encoded_df = pd.DataFrame(income_encoded, columns=encoder.get_feature_names_out(['Income']))"
   ]
  },
  {
   "cell_type": "code",
   "execution_count": null,
   "id": "a24cf33b-9240-4c98-b818-63da17d29165",
   "metadata": {},
   "outputs": [],
   "source": [
    "df_encoded = pd.concat([df[['Age', 'Buy']], income_encoded_df],axis=1)\n",
    "df_encoded"
   ]
  },
  {
   "cell_type": "code",
   "execution_count": null,
   "id": "147df2f6-b831-4f24-be5e-37946f74c46e",
   "metadata": {},
   "outputs": [],
   "source": []
  }
 ],
 "metadata": {
  "kernelspec": {
   "display_name": "Python [conda env:base] *",
   "language": "python",
   "name": "conda-base-py"
  },
  "language_info": {
   "codemirror_mode": {
    "name": "ipython",
    "version": 3
   },
   "file_extension": ".py",
   "mimetype": "text/x-python",
   "name": "python",
   "nbconvert_exporter": "python",
   "pygments_lexer": "ipython3",
   "version": "3.13.5"
  }
 },
 "nbformat": 4,
 "nbformat_minor": 5
}
